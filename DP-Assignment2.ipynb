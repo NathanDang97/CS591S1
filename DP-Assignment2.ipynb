{
 "cells": [
  {
   "cell_type": "markdown",
   "metadata": {},
   "source": [
    "# CS591S1 - Differential Privacy - Spring 2021\n",
    "\n",
    "## Assignment 2\n",
    "\n",
    "This notebook provides the solution to Exercise 2 of Assignment #2. This includes the algorithms for the Report Noisy Max version of the Median Algorithm."
   ]
  },
  {
   "cell_type": "code",
   "execution_count": 1,
   "metadata": {},
   "outputs": [],
   "source": [
    "import numpy as np\n",
    "from numpy import linalg as LA\n",
    "import random\n",
    "import matplotlib.pyplot as plt"
   ]
  },
  {
   "cell_type": "code",
   "execution_count": 41,
   "metadata": {},
   "outputs": [],
   "source": [
    "def init(n, R, setting, k):\n",
    "    li = []\n",
    "    for i in range(n):\n",
    "        if setting == 1:\n",
    "            li.append(np.random.normal(R/4, (R*R)/10))\n",
    "        elif setting == 2:\n",
    "            li.append(np.random.poisson(50))\n",
    "        elif setting == 3:\n",
    "            li.append(np.random.uniform((R - k), (R + k)))\n",
    "        else: # debugging setting: some stupid uniform distribution\n",
    "            li.append(np.random.uniform(1, R))\n",
    "    return np.array(li)"
   ]
  },
  {
   "cell_type": "code",
   "execution_count": 42,
   "metadata": {},
   "outputs": [
    {
     "name": "stdout",
     "output_type": "stream",
     "text": [
      "[ 1185.41011506  1352.73836258 -1265.70571055   286.73260964\n",
      "    24.30862773    24.76039264   687.31725995  1518.32828886\n",
      "  -819.7180702   -383.73213602]\n"
     ]
    }
   ],
   "source": [
    "x = init(10, 100, 1, 0)\n",
    "print(x)"
   ]
  },
  {
   "cell_type": "code",
   "execution_count": 27,
   "metadata": {},
   "outputs": [],
   "source": [
    "def round_to_nearest(x):\n",
    "    li = []\n",
    "    for i in range(len(x)):\n",
    "        li.append(round(x[i]))\n",
    "    return np.array(li)"
   ]
  },
  {
   "cell_type": "code",
   "execution_count": 28,
   "metadata": {},
   "outputs": [
    {
     "name": "stdout",
     "output_type": "stream",
     "text": [
      "[60. 76. 74. 17. 81. 58. 43. 55. 20. 90.]\n"
     ]
    }
   ],
   "source": [
    "rounded_x = round_to_nearest(x)\n",
    "print(rounded_x)"
   ]
  },
  {
   "cell_type": "code",
   "execution_count": 29,
   "metadata": {},
   "outputs": [],
   "source": [
    "def sign(z):\n",
    "    if z > 0:\n",
    "        return 1\n",
    "    elif z < 0:\n",
    "        return -1\n",
    "    else:\n",
    "        return 0\n",
    "\n",
    "def score_func(y, x):\n",
    "    q = 0\n",
    "    for i in range(len(x)):\n",
    "        q += sign(y - x[i])\n",
    "    return -abs(q)"
   ]
  },
  {
   "cell_type": "code",
   "execution_count": 30,
   "metadata": {},
   "outputs": [
    {
     "name": "stdout",
     "output_type": "stream",
     "text": [
      "-6\n"
     ]
    }
   ],
   "source": [
    "q = score_func(31, rounded_x)\n",
    "print(q)"
   ]
  },
  {
   "cell_type": "code",
   "execution_count": 105,
   "metadata": {},
   "outputs": [],
   "source": [
    "def rnm_median(x, R, epsilon):\n",
    "    rounded_x = round_to_nearest(x)\n",
    "    li = []\n",
    "    for y in range(1, R+1):\n",
    "        Z_y = np.random.exponential(2/epsilon)\n",
    "        q = score_func(y, x)\n",
    "        noisy_q = q + Z_y\n",
    "        li.append(noisy_q)\n",
    "    return li.index(max(li)) + 1"
   ]
  },
  {
   "cell_type": "code",
   "execution_count": 112,
   "metadata": {},
   "outputs": [],
   "source": [
    "# determine the position of y if it is inserted into the data array x\n",
    "def rank(y, x):\n",
    "    sorted_x = x.sort()\n",
    "    i = len(x) - 1\n",
    "    while i >= 0 and x[i] > y: \n",
    "        i -= 1 \n",
    "    return (i + 2) "
   ]
  },
  {
   "cell_type": "code",
   "execution_count": 113,
   "metadata": {},
   "outputs": [
    {
     "name": "stdout",
     "output_type": "stream",
     "text": [
      "[35 53 34 50 49 60 65 48 39 43]\n",
      "47, 5\n"
     ]
    }
   ],
   "source": [
    "x = init(10, 100, 2, 0)\n",
    "print(x)\n",
    "y_hat = rnm_median(x, 100, 0.1)\n",
    "r = rank(y_hat, x)\n",
    "#print(y_hat)\n",
    "print(str(y_hat) + \", \" + str(r))"
   ]
  },
  {
   "cell_type": "code",
   "execution_count": 123,
   "metadata": {},
   "outputs": [
    {
     "name": "stdout",
     "output_type": "stream",
     "text": [
      "n = 500, R = 100\n",
      "Average error in rank: 16.342\n",
      "Std of error in rank: 10.898671295162544\n",
      "Std of error in rank among runs: 7.246200785219552\n",
      "-----------------------------------------\n",
      "n = 500, R = 1000\n",
      "Average error in rank: 17.014\n",
      "Std of error in rank: 9.672321541388087\n",
      "Std of error in rank among runs: 6.267183080283198\n",
      "-----------------------------------------\n",
      "n = 500, R = 10000\n",
      "Average error in rank: 17.744\n",
      "Std of error in rank: 12.02191598706296\n",
      "Std of error in rank among runs: 9.03522665743871\n",
      "-----------------------------------------\n"
     ]
    }
   ],
   "source": [
    "setting = 2\n",
    "n_list = [500]\n",
    "#R_list = [1000]\n",
    "#n_list = [50, 100, 500, 2000, 10000]\n",
    "R_list = [100, 1000, 10000]\n",
    "output_data = []\n",
    "for n in n_list:\n",
    "    for R in R_list:\n",
    "        print(\"n = \" + str(n) + \", R = \" + str(R))\n",
    "        for i in range(0, 50):\n",
    "            x = init(n, R, setting, 0)\n",
    "            datum = []\n",
    "            for j in range(0, 10):\n",
    "                y_hat = rnm_median(x, R, 0.1)\n",
    "                datum.append(abs(n/2 - rank(y_hat, x)))\n",
    "            output_data.append(datum)\n",
    "        #print(output_data)\n",
    "        flatten_data = np.array(output_data).flatten()\n",
    "        print(\"Average error in rank: \" + str(np.mean(flatten_data)))\n",
    "        print(\"Std of error in rank: \" + str(np.std(flatten_data)))\n",
    "        stds = []\n",
    "        for k in range(len(output_data)):\n",
    "            stds.append(np.std(output_data[k]))\n",
    "        print(\"Std of error in rank among runs: \" + str(np.mean(stds)))\n",
    "        output_data = []\n",
    "        print(\"-----------------------------------------\")"
   ]
  },
  {
   "cell_type": "code",
   "execution_count": null,
   "metadata": {},
   "outputs": [],
   "source": []
  },
  {
   "cell_type": "code",
   "execution_count": null,
   "metadata": {},
   "outputs": [],
   "source": []
  },
  {
   "cell_type": "code",
   "execution_count": null,
   "metadata": {},
   "outputs": [],
   "source": []
  },
  {
   "cell_type": "code",
   "execution_count": null,
   "metadata": {},
   "outputs": [],
   "source": []
  },
  {
   "cell_type": "code",
   "execution_count": null,
   "metadata": {},
   "outputs": [],
   "source": []
  }
 ],
 "metadata": {
  "kernelspec": {
   "display_name": "Python 3",
   "language": "python",
   "name": "python3"
  },
  "language_info": {
   "codemirror_mode": {
    "name": "ipython",
    "version": 3
   },
   "file_extension": ".py",
   "mimetype": "text/x-python",
   "name": "python",
   "nbconvert_exporter": "python",
   "pygments_lexer": "ipython3",
   "version": "3.7.4"
  }
 },
 "nbformat": 4,
 "nbformat_minor": 2
}

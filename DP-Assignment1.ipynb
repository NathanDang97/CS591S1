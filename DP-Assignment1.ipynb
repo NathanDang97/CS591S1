{
 "cells": [
  {
   "cell_type": "markdown",
   "metadata": {},
   "source": [
    "# CS591S1 - Differential Privacy - Spring 2021\n",
    "\n",
    "## Assignment 1\n",
    "\n",
    "This notebook provides the solution to Exercise 4 of Assignment #1. This includes the algorithms for the two given scenarios in the instruction, the plots of the results, and finally, a short discussion of the results."
   ]
  },
  {
   "cell_type": "markdown",
   "metadata": {},
   "source": [
    "### The algorithms"
   ]
  },
  {
   "cell_type": "markdown",
   "metadata": {},
   "source": [
    "Importing some essential libraries."
   ]
  },
  {
   "cell_type": "code",
   "execution_count": 1,
   "metadata": {},
   "outputs": [],
   "source": [
    "import numpy as np\n",
    "from numpy import linalg as LA\n",
    "import random\n",
    "import matplotlib.pyplot as plt"
   ]
  },
  {
   "cell_type": "markdown",
   "metadata": {},
   "source": [
    "Some useful functions to run the experiments."
   ]
  },
  {
   "cell_type": "code",
   "execution_count": 2,
   "metadata": {},
   "outputs": [],
   "source": [
    "# create a random secret vector of {0, 1}^n\n",
    "def init(n):\n",
    "    li = []\n",
    "    for i in range (n):\n",
    "        li.append(random.randint(0, 1))\n",
    "    return np.array(li)\n",
    "\n",
    "# the release mechanism\n",
    "def release_mechanism(x):\n",
    "    li = []\n",
    "    s = 0\n",
    "    for i in range (len(x)):\n",
    "        s += x[i]\n",
    "        r = random.randint(0, 1)\n",
    "        s += r\n",
    "        li.append(s)\n",
    "        s -= r\n",
    "    return np.array(li)\n",
    "\n",
    "# sum of a given subset in an array\n",
    "def sum_se(arr, start, end):\n",
    "    s = 0\n",
    "    for i in range (start, end + 1):\n",
    "        s += arr[i]\n",
    "    return s"
   ]
  },
  {
   "cell_type": "markdown",
   "metadata": {},
   "source": [
    "Example of a secret vector and a noisy answer."
   ]
  },
  {
   "cell_type": "code",
   "execution_count": 3,
   "metadata": {},
   "outputs": [
    {
     "name": "stdout",
     "output_type": "stream",
     "text": [
      "[0 0 1 1 0 0 1 0 0 0 1 0 0 1 1]\n"
     ]
    }
   ],
   "source": [
    "x = init(15)\n",
    "print(x)"
   ]
  },
  {
   "cell_type": "code",
   "execution_count": 4,
   "metadata": {},
   "outputs": [
    {
     "name": "stdout",
     "output_type": "stream",
     "text": [
      "[0 1 1 3 3 3 4 4 3 3 4 4 5 6 6]\n"
     ]
    }
   ],
   "source": [
    "a = release_mechanism(x)\n",
    "print(a)"
   ]
  },
  {
   "cell_type": "markdown",
   "metadata": {},
   "source": [
    "The reconstruction algorithm for the first scenario."
   ]
  },
  {
   "cell_type": "code",
   "execution_count": 5,
   "metadata": {},
   "outputs": [],
   "source": [
    "def reconstruction_p1(a):\n",
    "    li = []\n",
    "    \n",
    "    # handling first bit with case analysis\n",
    "    if (a[0] == 0):\n",
    "        li.append(0)\n",
    "    elif (a[0] == 1):\n",
    "        if a[1] == 2 or a[1] == 3:\n",
    "            li.append(1)\n",
    "        else:\n",
    "            li.append(0)\n",
    "    else: # a[0] == 2\n",
    "        li.append(1)\n",
    "        \n",
    "    # handling the second to next-to-last bit\n",
    "    for i in range (1, len(a) - 1):        \n",
    "        diff1 = a[i] - a[i-1] # the difference in counts compared to one step in the past\n",
    "        diff2 = a[i+1] - a[i] # the difference in counts compared to one step in the future\n",
    "                \n",
    "        # this means that the current bit is 1 and has noise\n",
    "        if diff1 == 2:\n",
    "            li.append(1)\n",
    "        \n",
    "        # uncertainty arises, look at one step ahead\n",
    "        elif diff1 == 1:\n",
    "            # making at least a more educated guess when unusual difference happens in the future\n",
    "            if diff2 == -1:\n",
    "                li.append(li[i-1])\n",
    "            elif diff2 == 2:\n",
    "                li.append(1)\n",
    "            # double uncertainties, toss a coin\n",
    "            else:\n",
    "                li.append(random.randint(0, 1))\n",
    "        \n",
    "        # uncertainty arises, look at one step ahead\n",
    "        elif diff1 == 0:\n",
    "            # making at least a more educated guess when unusual difference happens in the future\n",
    "            if diff2 == 2:\n",
    "                li.append(li[i-1])\n",
    "            elif diff2 == -1:\n",
    "                li.append(1)\n",
    "            # double uncertainties, toss a coin\n",
    "            else:\n",
    "                li.append(random.randint(0, 1))\n",
    "        \n",
    "        # this means that the current bit must be a zero\n",
    "        elif diff1 == -1:\n",
    "            li.append(0)\n",
    "\n",
    "    # handling last bit\n",
    "    last = len(a) - 1\n",
    "    diff_last = a[last] - a[last - 1]\n",
    "    if diff_last == 2:\n",
    "        li.append(1)\n",
    "    elif diff_last == -1:\n",
    "        li.append(0)\n",
    "    else:\n",
    "        s = sum_se(li, 0, last - 1)\n",
    "        if (s < a[last]):\n",
    "            li.append(1)\n",
    "        else:\n",
    "            li.append(random.randint(0, 1))\n",
    "    return np.array(li)"
   ]
  },
  {
   "cell_type": "markdown",
   "metadata": {},
   "source": [
    "An example of running the reconstruction algorithm."
   ]
  },
  {
   "cell_type": "code",
   "execution_count": 6,
   "metadata": {},
   "outputs": [
    {
     "name": "stdout",
     "output_type": "stream",
     "text": [
      "[1 1 0 1 1 1 0 1 1 1 0 0 0 0 1]\n"
     ]
    }
   ],
   "source": [
    "x = init(15)\n",
    "print(x)"
   ]
  },
  {
   "cell_type": "code",
   "execution_count": 7,
   "metadata": {},
   "outputs": [
    {
     "name": "stdout",
     "output_type": "stream",
     "text": [
      "[ 2  3  2  3  4  6  5  7  7  9  8  9  9  9 10]\n"
     ]
    }
   ],
   "source": [
    "a = release_mechanism(x)\n",
    "print(a)"
   ]
  },
  {
   "cell_type": "code",
   "execution_count": 8,
   "metadata": {},
   "outputs": [
    {
     "name": "stdout",
     "output_type": "stream",
     "text": [
      "[1 1 0 1 1 1 0 1 1 1 0 0 1 1 0]\n"
     ]
    }
   ],
   "source": [
    "x_prime = reconstruction_p1(a)\n",
    "print(x_prime)"
   ]
  },
  {
   "cell_type": "code",
   "execution_count": 9,
   "metadata": {},
   "outputs": [
    {
     "name": "stdout",
     "output_type": "stream",
     "text": [
      "3.0\n"
     ]
    }
   ],
   "source": [
    "# the error (i.e. how many different bits between x and x')\n",
    "x_diff = x_prime - x\n",
    "print(LA.norm(x_diff, 1))"
   ]
  },
  {
   "cell_type": "markdown",
   "metadata": {},
   "source": [
    "Running the experiment on the percentage of bits recovered on n = 100, 500, 1000, 5000, and 5000."
   ]
  },
  {
   "cell_type": "code",
   "execution_count": 10,
   "metadata": {},
   "outputs": [
    {
     "name": "stdout",
     "output_type": "stream",
     "text": [
      "Experiment of n = 100\n",
      "Mean = 64.7\n",
      "Standard deviation = 4.172529209005012\n",
      "---------------------------------\n",
      "Experiment of n = 500\n",
      "Mean = 64.15\n",
      "Standard deviation = 2.2749725273066486\n",
      "---------------------------------\n",
      "Experiment of n = 1000\n",
      "Mean = 64.05499999999999\n",
      "Standard deviation = 1.4302010348199308\n",
      "---------------------------------\n",
      "Experiment of n = 5000\n",
      "Mean = 64.13\n",
      "Standard deviation = 0.6994998213009047\n",
      "---------------------------------\n",
      "Experiment of n = 50000\n",
      "Mean = 64.0744\n",
      "Standard deviation = 0.2201586700541228\n",
      "---------------------------------\n"
     ]
    }
   ],
   "source": [
    "n = 100, 500, 1000, 5000, 50000\n",
    "stds_s1 = []\n",
    "means_s1 = []\n",
    "for trial in n:\n",
    "    print(\"Experiment of n = \" + str(trial))\n",
    "    std = 0\n",
    "    mean = 0\n",
    "    bits = [] # % of bits recovered\n",
    "    for i in range (20):\n",
    "        x = init(trial)\n",
    "        a = release_mechanism(x)\n",
    "        x_prime = reconstruction_p1(a)\n",
    "        x_diff = x_prime - x\n",
    "        bits.append((trial - LA.norm(x_diff, 1))*100/trial)\n",
    "    mean = np.mean(bits)\n",
    "    std = np.std(bits)\n",
    "    stds_s1.append(std)\n",
    "    means_s1.append(mean)\n",
    "    print(\"Mean = \" + str(mean))\n",
    "    print(\"Standard deviation = \" + str(std))\n",
    "    print(\"---------------------------------\")"
   ]
  },
  {
   "cell_type": "markdown",
   "metadata": {},
   "source": [
    "Setting up for the second scenario."
   ]
  },
  {
   "cell_type": "code",
   "execution_count": 11,
   "metadata": {},
   "outputs": [],
   "source": [
    "# method for constructing vector w\n",
    "def construct_w(x):\n",
    "    li = []\n",
    "    for i in range(len(x)):\n",
    "        sample = [x[i], x[i], abs(1 - x[i])]\n",
    "        li.append(random.choice(sample))\n",
    "    return np.array(li)"
   ]
  },
  {
   "cell_type": "code",
   "execution_count": 12,
   "metadata": {},
   "outputs": [
    {
     "name": "stdout",
     "output_type": "stream",
     "text": [
      "[0 0 1 1 0 0 1 0 1 1]\n",
      "[0 0 1 0 1 0 1 1 1 1]\n"
     ]
    }
   ],
   "source": [
    "x = init(10)\n",
    "w = construct_w(x)\n",
    "print(x)\n",
    "print(w)"
   ]
  },
  {
   "cell_type": "markdown",
   "metadata": {},
   "source": [
    "The reconstruction algorithm for the second scenario."
   ]
  },
  {
   "cell_type": "code",
   "execution_count": 13,
   "metadata": {},
   "outputs": [],
   "source": [
    "def reconstruction_p2(a, w):\n",
    "    li = []\n",
    "    \n",
    "    # handling first bit with case analysis\n",
    "    if (a[0] == 0):\n",
    "        li.append(0)\n",
    "    elif (a[0] == 1):\n",
    "        if a[1] == 2 or a[1] == 3:\n",
    "            li.append(1)\n",
    "        else:\n",
    "            li.append(0)\n",
    "    else: # a[0] == 2\n",
    "        li.append(1)\n",
    "        \n",
    "    # handling the second to next-to-last bit\n",
    "    for i in range (1, len(a) - 1):        \n",
    "        diff1 = a[i] - a[i-1] # the difference in counts compared to one step in the past\n",
    "        diff2 = a[i+1] - a[i] # the difference in counts compared to one step in the future\n",
    "                \n",
    "        # this means that the current bit is 1 and has noise\n",
    "        if diff1 == 2:\n",
    "            li.append(1)\n",
    "        \n",
    "        # uncertainty arises, look at one step ahead\n",
    "        elif diff1 == 1:\n",
    "            # making at least a more educated guess when unusual difference happens in the future\n",
    "            if diff2 == -1:\n",
    "                li.append(li[i-1])\n",
    "            elif diff2 == 2:\n",
    "                li.append(1)\n",
    "            # double uncertainties, access the vector w\n",
    "            else:\n",
    "                li.append(w[i])\n",
    "        \n",
    "        # uncertainty arises, look at one step ahead\n",
    "        elif diff1 == 0:\n",
    "            # making at least a more educated guess when unusual difference happens in the future\n",
    "            if diff2 == 2:\n",
    "                li.append(li[i-1])\n",
    "            elif diff2 == -1:\n",
    "                li.append(1)\n",
    "            # double uncertainties, access the vector w\n",
    "            else:\n",
    "                li.append(w[i])\n",
    "        \n",
    "        # this means that the current bit must be a zero\n",
    "        elif diff1 == -1:\n",
    "            li.append(0)\n",
    "\n",
    "    # handling last bit\n",
    "    last = len(a) - 1\n",
    "    diff_last = a[last] - a[last - 1]\n",
    "    if diff_last == 2:\n",
    "        li.append(1)\n",
    "    elif diff_last == -1:\n",
    "        li.append(0)\n",
    "    else:\n",
    "        s = sum_se(li, 0, last - 1)\n",
    "        if (s < a[last]):\n",
    "            li.append(1)\n",
    "        else:\n",
    "            li.append(w[i])\n",
    "    return np.array(li)"
   ]
  },
  {
   "cell_type": "markdown",
   "metadata": {},
   "source": [
    "Running the experiment on the percentage of bits recovered on n = 100, 500, 1000, 5000, and 5000."
   ]
  },
  {
   "cell_type": "code",
   "execution_count": 14,
   "metadata": {},
   "outputs": [
    {
     "name": "stdout",
     "output_type": "stream",
     "text": [
      "Experiment of n = 100\n",
      "Mean = 74.0\n",
      "Standard deviation = 4.604345773288535\n",
      "---------------------------------\n",
      "Experiment of n = 500\n",
      "Mean = 72.51\n",
      "Standard deviation = 1.78490896126385\n",
      "---------------------------------\n",
      "Experiment of n = 1000\n",
      "Mean = 72.78999999999999\n",
      "Standard deviation = 1.5927648916271364\n",
      "---------------------------------\n",
      "Experiment of n = 5000\n",
      "Mean = 73.00800000000001\n",
      "Standard deviation = 0.6278980809016709\n",
      "---------------------------------\n",
      "Experiment of n = 50000\n",
      "Mean = 72.97389999999999\n",
      "Standard deviation = 0.15380308839551798\n",
      "---------------------------------\n"
     ]
    }
   ],
   "source": [
    "n = 100, 500, 1000, 5000, 50000\n",
    "# results of the second scenario\n",
    "stds_s2 = []\n",
    "means_s2 = []\n",
    "for trial in n:\n",
    "    print(\"Experiment of n = \" + str(trial))\n",
    "    std = 0\n",
    "    mean = 0\n",
    "    bits = [] # % of bits recovered\n",
    "    for i in range (20):\n",
    "        x = init(trial)\n",
    "        w = construct_w(x)\n",
    "        a = release_mechanism(x)\n",
    "        x_prime = reconstruction_p2(a, w)\n",
    "        x_diff = x_prime - x\n",
    "        bits.append((trial - LA.norm(x_diff, 1))*100/trial)\n",
    "    mean = np.mean(bits)\n",
    "    std = np.std(bits)\n",
    "    stds_s2.append(std)\n",
    "    means_s2.append(mean)\n",
    "    print(\"Mean = \" + str(mean))\n",
    "    print(\"Standard deviation = \" + str(std))\n",
    "    print(\"---------------------------------\")"
   ]
  },
  {
   "cell_type": "markdown",
   "metadata": {},
   "source": [
    "### Plotting the results."
   ]
  },
  {
   "cell_type": "markdown",
   "metadata": {},
   "source": [
    "A quick recap on the results of both scenarios:"
   ]
  },
  {
   "cell_type": "code",
   "execution_count": 15,
   "metadata": {},
   "outputs": [
    {
     "name": "stdout",
     "output_type": "stream",
     "text": [
      "The means in scenario 1 and 2 respectively.\n",
      "[64.7, 64.15, 64.05499999999999, 64.13, 64.0744]\n",
      "[74.0, 72.51, 72.78999999999999, 73.00800000000001, 72.97389999999999]\n"
     ]
    }
   ],
   "source": [
    "print(\"The means in scenario 1 and 2 respectively.\")\n",
    "print(means_s1)\n",
    "print(means_s2)"
   ]
  },
  {
   "cell_type": "code",
   "execution_count": 16,
   "metadata": {},
   "outputs": [
    {
     "name": "stdout",
     "output_type": "stream",
     "text": [
      "The stds in scenario 1 and 2 respectively.\n",
      "[4.172529209005012, 2.2749725273066486, 1.4302010348199308, 0.6994998213009047, 0.2201586700541228]\n",
      "[4.604345773288535, 1.78490896126385, 1.5927648916271364, 0.6278980809016709, 0.15380308839551798]\n"
     ]
    }
   ],
   "source": [
    "print(\"The stds in scenario 1 and 2 respectively.\")\n",
    "print(stds_s1)\n",
    "print(stds_s2)"
   ]
  },
  {
   "cell_type": "markdown",
   "metadata": {},
   "source": [
    "Plotting."
   ]
  },
  {
   "cell_type": "code",
   "execution_count": 17,
   "metadata": {},
   "outputs": [],
   "source": [
    "# the method for plotting the data\n",
    "def plot_data(s1, s2, n, title1, title2):\n",
    "    plt.figure(figsize=(14, 4))\n",
    "    \n",
    "    plt.subplot(121)\n",
    "    plt.plot(n, s1, 'r.', markersize=10, alpha=0.5)\n",
    "    plt.xlabel(\"x\", fontsize=15)\n",
    "    plt.ylabel(\"y\", rotation=0, fontsize=15)\n",
    "    plt.title(title1)\n",
    "\n",
    "    plt.subplot(122)    \n",
    "    plt.plot(n, s2, 'b.', markersize=10, alpha=0.5)\n",
    "    plt.xlabel(\"x\", fontsize=15)\n",
    "    plt.ylabel(\"y\", rotation=0, fontsize=15)\n",
    "    plt.title(title2)"
   ]
  },
  {
   "cell_type": "code",
   "execution_count": 18,
   "metadata": {},
   "outputs": [],
   "source": [
    "n = [1, 2, 3, 4, 5] # stands for the order of the experiments, i.e. 100, 500, 1000, 5000, 50000 respectively."
   ]
  },
  {
   "cell_type": "code",
   "execution_count": 19,
   "metadata": {
    "scrolled": true
   },
   "outputs": [
    {
     "data": {
      "image/png": "[encoded data removed]",
      "text/plain": [
       "<Figure size 1008x288 with 2 Axes>"
      ]
     },
     "metadata": {
      "needs_background": "light"
     },
     "output_type": "display_data"
    }
   ],
   "source": [
    "plot_data(means_s1, means_s2, n, \"Means of Scenario 1\", \"Means of Scenario 2\")"
   ]
  },
  {
   "cell_type": "code",
   "execution_count": 20,
   "metadata": {},
   "outputs": [
    {
     "data": {
      "image/png": "[encoded data removed]",
      "text/plain": [
       "<Figure size 1008x288 with 2 Axes>"
      ]
     },
     "metadata": {
      "needs_background": "light"
     },
     "output_type": "display_data"
    }
   ],
   "source": [
    "plot_data(stds_s1, stds_s2, n, \"Stds of Scenario 1\", \"Stds of Scenario 2\")"
   ]
  },
  {
   "cell_type": "markdown",
   "metadata": {},
   "source": [
    "### Discussing the results"
   ]
  },
  {
   "cell_type": "markdown",
   "metadata": {},
   "source": [
    "The results were worse than the given threshold which is not a surprise because the implemented methods were somewhat naive, namely, making coin tosses (or accessing the w-vector for the second scenario) when a couple of untertainties arise. Obviously, if some occurences of coin tosses were replaced with a more complex procedure giving more educated guesses, the results will become significantly better. This can be seen on the second scenario where all of the coin tosses were replaced with the access to w-vector which provides much better guesses, even with the naive approach.\n",
    "\n",
    "The means in 5 experiments for both cases did not differ by much from each other, around 64 for the first case and 73 for the second case. The first mean (in both cases) seems to be a bit higher compared to the rest and one possible reason is that the data size was too small. The same happens to the first std and it is obvious that the standard deviation decreases as we experiment on a larger data set which provides tighter confidence intervals as n increases. Namely, when n gets to 50000, there's a 99% chance that we can recover ~73% the number of bits for the second scenario (or 64% for the first one)."
   ]
  }
 ],
 "metadata": {
  "kernelspec": {
   "display_name": "Python 3",
   "language": "python",
   "name": "python3"
  },
  "language_info": {
   "codemirror_mode": {
    "name": "ipython",
    "version": 3
   },
   "file_extension": ".py",
   "mimetype": "text/x-python",
   "name": "python",
   "nbconvert_exporter": "python",
   "pygments_lexer": "ipython3",
   "version": "3.7.4"
  }
 },
 "nbformat": 4,
 "nbformat_minor": 2
}
